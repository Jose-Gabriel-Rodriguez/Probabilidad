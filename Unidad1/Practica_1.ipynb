{
  "cells": [
    {
      "cell_type": "markdown",
      "metadata": {
        "id": "view-in-github",
        "colab_type": "text"
      },
      "source": [
        "<a href=\"https://colab.research.google.com/github/Jose-Gabriel-Rodriguez/Probabilidad/blob/main/Unidad1/Practica_1.ipynb\" target=\"_parent\"><img src=\"https://colab.research.google.com/assets/colab-badge.svg\" alt=\"Open In Colab\"/></a>"
      ]
    },
    {
      "cell_type": "markdown",
      "metadata": {
        "id": "uKjVFnOIJgrD"
      },
      "source": [
        "![image](https://github.com/JoseGabriel-ITD/Probabilidad-y-Estadistica/blob/main/Cintilla2004.png?raw=true)\n",
        "\n",
        "# **Probabilidad y estadística**\n",
        "\n",
        "## Unidad 1\n",
        "\n",
        "### Practica 1. Estadística descriptiva básica e Histogramas.\n",
        "\n",
        "### Facilitador: *Dr. José Gabriel Rodríguez Rivas*\n",
        "\n",
        "### Alumno:  _____________\n"
      ]
    },
    {
      "cell_type": "markdown",
      "metadata": {
        "id": "wAF3u3V0JgrH"
      },
      "source": [
        "## Importar la libreria statistics\n",
        "\n",
        "Esta librería contiene las funciones para calcular estadísticas matemáticas de datos numéricos  "
      ]
    },
    {
      "cell_type": "code",
      "execution_count": null,
      "metadata": {
        "id": "HpAg0besvDaA"
      },
      "outputs": [],
      "source": [
        "from statistics import *"
      ]
    },
    {
      "cell_type": "markdown",
      "metadata": {
        "id": "T6lUuhHpJgrJ"
      },
      "source": [
        "## Ejemplo 1: Registro de calificaciones de 12 alumnos\n",
        "\n",
        "1. En este ejemplo generamos una lista que contiene las calificaciones de un grupo de 12 alumnos.\n",
        "2. Con esa lista de valores se pretende determinar las **Medidas de tendencia central, es decir, la media, la mediana y la moda**\n"
      ]
    },
    {
      "cell_type": "code",
      "execution_count": null,
      "metadata": {
        "colab": {
          "base_uri": "https://localhost:8080/"
        },
        "id": "JIy2WQh1wlco",
        "outputId": "1d2f17df-4dde-4c97-85a9-fd5a30ba086a"
      },
      "outputs": [
        {
          "output_type": "stream",
          "name": "stdout",
          "text": [
            "[70, 70, 65, 90, 100, 95, 45, 80, 73, 20, 100, 96]\n"
          ]
        }
      ],
      "source": [
        "# Lista de calificaciones del grupo a de probabilidad y estadistica\n",
        "grupoa = [70, 70, 65, 90, 100, 95, 45, 80 , 73, 20, 100, 96]\n",
        "print(grupoa)\n"
      ]
    },
    {
      "cell_type": "code",
      "execution_count": null,
      "metadata": {
        "colab": {
          "base_uri": "https://localhost:8080/"
        },
        "id": "Tt8OMKh52a5H",
        "outputId": "3e3915ae-df7e-40a8-c246-a49dd0a64275"
      },
      "outputs": [
        {
          "output_type": "execute_result",
          "data": {
            "text/plain": [
              "list"
            ]
          },
          "metadata": {},
          "execution_count": 4
        }
      ],
      "source": [
        "# la funcion type nos devuelve el tipo de dato de la variable\n",
        "type(grupoa)"
      ]
    },
    {
      "cell_type": "markdown",
      "metadata": {
        "id": "u5HvrT8Y2dki"
      },
      "source": [
        "### Determinar la media del ejemplo 1\n",
        "\n",
        "La media, también conocida como promedio, es el valor que se obtiene al dividir la suma de un conjunto de números entre la cantidad de ellos.\n",
        "\n",
        "Para obtener la Media de un conjunto solo tienes que seguir estos sencillos pasos:\n",
        "\n",
        "1. Determina el conjunto de valores que buscas promediar.\n",
        "2. Suma los valores para obtener el total\n",
        "3. Haz el conteo de la cantidad de valores en el conjunto.\n",
        "4. Divide la suma del conjunto entre la cantidad de números.\n",
        "\n",
        "**Media aritmética de la población**\n",
        "\n",
        "$$\n",
        "\\mu = \\sum_{i=1}^{N}=\\frac{x_i}{N}=\\frac{x_1+x_2+x_3+ ... x_{12}}{12}\n",
        "$$"
      ]
    },
    {
      "cell_type": "code",
      "execution_count": null,
      "metadata": {
        "colab": {
          "base_uri": "https://localhost:8080/"
        },
        "id": "xP7_lkTrxiUM",
        "outputId": "06cecb7e-925c-44ff-c4d9-66530b981ec0"
      },
      "outputs": [
        {
          "output_type": "stream",
          "name": "stdout",
          "text": [
            "75.33333333333333\n"
          ]
        }
      ],
      "source": [
        "# Sacar la media de las calificaciones con una formula\n",
        "\n",
        "promedio = sum(grupoa) / len(grupoa)\n",
        "print(promedio)"
      ]
    },
    {
      "cell_type": "code",
      "execution_count": null,
      "metadata": {
        "colab": {
          "base_uri": "https://localhost:8080/"
        },
        "id": "FZnFRIUQyI3e",
        "outputId": "ddc60f87-5c0d-4833-bdec-01651065b044"
      },
      "outputs": [
        {
          "output_type": "stream",
          "name": "stdout",
          "text": [
            "75.33333333333333\n"
          ]
        }
      ],
      "source": [
        "# Utilizar la funcion mean que esta en la libreria statistics para sacar\n",
        "# el promedio\n",
        "promedio2 = mean(grupoa)\n",
        "print(promedio2)"
      ]
    },
    {
      "cell_type": "markdown",
      "metadata": {
        "id": "buvBOHg9JgrL"
      },
      "source": [
        "### Determinar la mediana del ejemplo 1\n",
        "\n",
        "La mediana es el valor que **ocupa el lugar central de todos los datos cuando éstos están ordenados** de menor a mayor\n",
        "\n",
        "Los pasos para sacar la mediana son:\n",
        "\n",
        "1. **Ordena** todos los números del más pequeño al más grande.\n",
        "2. Encuentra el **número del medio** del conjunto de datos.\n",
        "- Si tienes una cantidad impar: Tacha el número al final de la izquierda, después el primero a la derecha, y repite el proceso hasta quedarte con un número, que será la mediana.\n",
        "- Si tienes una cantidad par, al final quedarás con dos números en el centro. Súmalos y divídelos entre 2 para obtener la mediana.\n"
      ]
    },
    {
      "cell_type": "code",
      "execution_count": null,
      "metadata": {
        "colab": {
          "base_uri": "https://localhost:8080/"
        },
        "id": "k78iVDbVykH_",
        "outputId": "e3dc913b-e219-4f95-f6cc-cacd84d56da8"
      },
      "outputs": [
        {
          "output_type": "stream",
          "name": "stdout",
          "text": [
            "76.5\n"
          ]
        }
      ],
      "source": [
        "# Determinar el valor de la mediana con la funcion median\n",
        "\n",
        "mediana = median(grupoa)\n",
        "print(mediana)"
      ]
    },
    {
      "cell_type": "markdown",
      "metadata": {
        "id": "5UN43bGzJgrL"
      },
      "source": [
        "### Determinar la moda del ejemplo 1\n",
        "\n",
        "1. La moda es el valor que más se repite dentro de un conjunto de datos.\n",
        "2. A diferencia de la media y la mediana, la moda no requiere valores numéricos y puede utilizarse con datos categóricos o discretos."
      ]
    },
    {
      "cell_type": "code",
      "execution_count": null,
      "metadata": {
        "colab": {
          "base_uri": "https://localhost:8080/"
        },
        "outputId": "c1381195-c3c9-43a8-a2de-5544d0bf2960",
        "id": "BpvjQO_HJgrL"
      },
      "outputs": [
        {
          "output_type": "stream",
          "name": "stdout",
          "text": [
            "70\n"
          ]
        }
      ],
      "source": [
        "# Determinar el valor de la moda con la funcion mode\n",
        "\n",
        "moda = mode(grupoa)\n",
        "print(moda)"
      ]
    },
    {
      "cell_type": "code",
      "source": [
        "# En caso de que exista mas de una moda, se puede emplear la funcion multimode para sacar las\n",
        "# Multiples modas que puedan existir\n",
        "\n",
        "moda2 = multimode(grupoa)\n",
        "print(moda2)"
      ],
      "metadata": {
        "colab": {
          "base_uri": "https://localhost:8080/"
        },
        "id": "n6Zb6Nv-YLG4",
        "outputId": "31bd6ec4-bcf8-4047-f605-5043784f32ed"
      },
      "execution_count": null,
      "outputs": [
        {
          "output_type": "stream",
          "name": "stdout",
          "text": [
            "[70, 100]\n"
          ]
        }
      ]
    },
    {
      "cell_type": "markdown",
      "metadata": {
        "id": "g2UdIDVA9NiP"
      },
      "source": [
        "## Ejemplo 2. Tiempos de 100 metros de un grupo de 12 alumnos\n",
        "\n",
        "1. En este ejemplo generamos una lista de un grupo de 10 alumnos que corren los 100 metros y se registran los tiempos de cada uno\n",
        "2. Con esa lista de valores se pretende determinar las **Medidas de tendencia central, es decir, la media, la mediana y la moda**\n"
      ]
    },
    {
      "cell_type": "code",
      "execution_count": null,
      "metadata": {
        "colab": {
          "base_uri": "https://localhost:8080/"
        },
        "id": "TanJE5kOznTD",
        "outputId": "483ed5d4-8ba5-4384-9fc7-c5a24e60d225"
      },
      "outputs": [
        {
          "name": "stdout",
          "output_type": "stream",
          "text": [
            "[15.1, 17.2, 14.69, 13.27, 22.15, 18.71, 19.15, 20.65, 15.1, 17.2]\n"
          ]
        }
      ],
      "source": [
        "# Definimos una varaiable llamada tiempos100mts de tipo lista, que contiene los\n",
        "# tiempos que tardaron los 10 alumnos para correr los 100 metros\n",
        "tiempos100mts = [ 15.10, 17.20, 14.69, 13.27, 22.15, 18.71, 19.15, 20.65,\n",
        "                 15.10, 17.20]\n",
        "# Desplegamos los valores de la lista\n",
        "print(tiempos100mts)"
      ]
    },
    {
      "cell_type": "markdown",
      "metadata": {
        "id": "-BV3dvACJgrM"
      },
      "source": [
        "### Funcion mean para calcular el promedio"
      ]
    },
    {
      "cell_type": "code",
      "execution_count": null,
      "metadata": {
        "colab": {
          "base_uri": "https://localhost:8080/"
        },
        "id": "iMkK95Ag6P9e",
        "outputId": "fc0276ff-ac61-4431-9584-7a187dad17b4"
      },
      "outputs": [
        {
          "name": "stdout",
          "output_type": "stream",
          "text": [
            "El tiempo promedio de los corredores es=> 17.322\n"
          ]
        }
      ],
      "source": [
        "# Usamos la funcion mean para determinar el tiempo promedio de la lista de valores\n",
        "\n",
        "print(\"El tiempo promedio de los corredores\", mean(tiempos100mts) )"
      ]
    },
    {
      "cell_type": "markdown",
      "metadata": {
        "id": "Nm7EliZpJgrN"
      },
      "source": [
        "### Funcion median para calcular la mediana"
      ]
    },
    {
      "cell_type": "code",
      "execution_count": null,
      "metadata": {
        "colab": {
          "base_uri": "https://localhost:8080/"
        },
        "id": "mo0NKgPS6oDi",
        "outputId": "3a11033d-8a67-44c4-b18a-f476a74c8bcb"
      },
      "outputs": [
        {
          "name": "stdout",
          "output_type": "stream",
          "text": [
            "La media de los tiempos de los corredores es=> 17.2\n"
          ]
        }
      ],
      "source": [
        "# Usamos la funcion median  para determinar el tiempo promedio de la lista de valores\n",
        "\n",
        "# definimos una variable llammada mediana par calcular la mediana de la lista con la funcion\n",
        "# median\n",
        "mediana = median(tiempos100mts)\n",
        "print(\"La media de los tiempos de los corredores es=>\", mediana )"
      ]
    },
    {
      "cell_type": "markdown",
      "metadata": {
        "id": "waKJnHepJgrN"
      },
      "source": [
        "### Funcion mode para calcular la moda"
      ]
    },
    {
      "cell_type": "code",
      "execution_count": null,
      "metadata": {
        "colab": {
          "base_uri": "https://localhost:8080/"
        },
        "id": "2YdfCg_W9OW4",
        "outputId": "c3a1ca01-1e3c-477c-ff91-c30e3e58e412"
      },
      "outputs": [
        {
          "name": "stdout",
          "output_type": "stream",
          "text": [
            "La moda de los tiempos es=> 15.1\n"
          ]
        }
      ],
      "source": [
        "# definimos una variable llammada moda par calcular la moda  de la lista con la funcion\n",
        "# mode\n",
        "\n",
        "moda = mode(tiempos100mts)\n",
        "print(\"La moda de los tiempos es=>\", moda)"
      ]
    },
    {
      "cell_type": "markdown",
      "metadata": {
        "id": "d5Ivbu5yJgrN"
      },
      "source": [
        "### Función multimode para calcular múltiples modas (por ejemplo, en caso de que sea bimodal)"
      ]
    },
    {
      "cell_type": "code",
      "execution_count": null,
      "metadata": {
        "colab": {
          "base_uri": "https://localhost:8080/"
        },
        "id": "Qbhc87ZX9WVg",
        "outputId": "36949774-4796-492a-ff8a-16ff2237cc19"
      },
      "outputs": [
        {
          "name": "stdout",
          "output_type": "stream",
          "text": [
            "La moda de los tiempos es=> [15.1, 17.2]\n"
          ]
        }
      ],
      "source": [
        "multimodas = multimode(tiempos100mts)\n",
        "print(\"La moda de los tiempos es=>\", multimodas)"
      ]
    },
    {
      "cell_type": "markdown",
      "metadata": {
        "id": "9EZASuesJgrO"
      },
      "source": [
        "## Ejemplo 3: Histogramas de 2 grupos\n",
        "\n",
        "1. En este ejemplo generamos 100 numeros aleatorios reales que representa la produccion diaria de 100 telares (medidas en metros).\n",
        "2. Generar otra lista con la produccion de 100 telares para una segunda fabrica.\n",
        "3. Con estas listas de valores se pretende determinar las medidas de tendencia central, es decir, la media, la moda, la mediana, la desviacion estandar.\n",
        "4. Graficar un histograma para cada fabrica."
      ]
    },
    {
      "cell_type": "code",
      "execution_count": 1,
      "metadata": {
        "id": "s23MSXiyJgrO"
      },
      "outputs": [],
      "source": [
        "# Libreria para generar numeros aleatorios\n",
        "import random"
      ]
    },
    {
      "cell_type": "code",
      "execution_count": 2,
      "metadata": {
        "id": "7PMFODjrJgrO",
        "outputId": "bfedf674-9f02-45ef-dea3-aaed4c679d88",
        "colab": {
          "base_uri": "https://localhost:8080/"
        }
      },
      "outputs": [
        {
          "output_type": "stream",
          "name": "stdout",
          "text": [
            "[87.73, 52.09, 95.02, 89.44, 79.31, 70.16, 80.68, 56.81, 87.58, 76.99, 56.16, 83.35, 65.31, 64.96, 98.89, 67.42, 99.29, 97.14, 95.19, 67.18, 81.43, 89.34, 56.82, 97.81, 96.24, 79.02, 60.74, 88.14, 94.88, 70.27, 71.77, 52.66, 85.37, 83.64, 51.26, 52.99, 79.58, 65.89, 73.15, 97.55, 65.77, 76.05, 91.71, 85.14, 86.49, 77.87, 90.85, 88.17, 57.36, 77.39, 97.36, 89.81, 72.34, 97.57, 84.15, 69.99, 84.46, 60.91, 93.88, 54.88, 85.15, 88.93, 84.89, 74.55, 62.29, 70.38, 99.37, 96.89, 68.6, 50.51, 55.17, 84.82, 62.74, 71.31, 90.92, 87.83, 56.33, 81.39, 56.34, 86.54, 99.17, 94.73, 95.13, 76.02, 88.96, 67.5, 86.17, 58.37, 64.17, 55.96, 82.94, 61.75, 85.03, 97.72, 51.62, 74.04, 84.94, 79.59, 69.73, 57.14]\n"
          ]
        }
      ],
      "source": [
        "fabrica1 = []\n",
        "for i in range(100):\n",
        "    numero_aleatorio = round( random.uniform(50, 100), 2 )\n",
        "    fabrica1.append(numero_aleatorio)\n",
        "print(fabrica1)"
      ]
    },
    {
      "cell_type": "code",
      "execution_count": 3,
      "metadata": {
        "id": "dsftImLzJgrO",
        "outputId": "da78f5a4-6011-4f47-af7e-7c6eaf05bc01",
        "colab": {
          "base_uri": "https://localhost:8080/"
        }
      },
      "outputs": [
        {
          "output_type": "stream",
          "name": "stdout",
          "text": [
            "[81.67, 61.1, 58.71, 87.62, 85.4, 59.8, 91.01, 62.3, 78.59, 86.66, 79.1, 65.19, 62.54, 78.83, 47.48, 84.0, 84.1, 76.58, 69.65, 58.12, 77.78, 69.01, 88.34, 48.24, 68.68, 62.91, 68.91, 89.95, 42.61, 54.2, 85.58, 42.93, 76.8, 59.97, 79.11, 66.26, 81.76, 47.73, 56.56, 86.95, 72.38, 84.7, 49.55, 65.52, 51.89, 79.36, 79.65, 56.15, 73.93, 40.02, 87.03, 75.13, 62.34, 87.16, 63.86, 66.51, 92.73, 48.82, 43.14, 63.87, 47.33, 42.33, 69.44, 53.03, 48.45, 86.06, 86.97, 50.1, 63.19, 80.01, 90.78, 49.43, 61.09, 69.23, 42.77, 55.01, 43.67, 87.02, 52.98, 78.57, 89.99, 42.7, 89.29, 52.33, 42.8, 63.92, 67.29, 55.16, 43.49, 55.15, 42.62, 65.81, 41.33, 64.55, 54.71, 78.18, 88.27, 58.66, 77.14, 67.11]\n"
          ]
        }
      ],
      "source": [
        "fabrica2 = []\n",
        "for i in range(100):\n",
        "    numero_aleatorio2 = round( random.uniform(40, 93), 2 )\n",
        "    fabrica2.append(numero_aleatorio2)\n",
        "print(fabrica2)"
      ]
    },
    {
      "cell_type": "code",
      "execution_count": null,
      "metadata": {
        "id": "EOzfIM9RJgrO"
      },
      "outputs": [],
      "source": [
        "# libreia de python para graficar valores\n",
        "import matplotlib.pyplot as plt"
      ]
    },
    {
      "cell_type": "code",
      "execution_count": 4,
      "metadata": {
        "id": "v_44HwvfJgrO",
        "outputId": "39882d87-ebaf-4f70-be93-54cd8145f3a5",
        "colab": {
          "base_uri": "https://localhost:8080/",
          "height": 470
        }
      },
      "outputs": [
        {
          "output_type": "execute_result",
          "data": {
            "text/plain": [
              "Text(0.5, 1.0, 'Producción diaria de la Fabrica 1')"
            ]
          },
          "metadata": {},
          "execution_count": 4
        },
        {
          "output_type": "display_data",
          "data": {
            "text/plain": [
              "<Figure size 640x480 with 1 Axes>"
            ],
            "image/png": "[encoded data removed]"
          },
          "metadata": {}
        }
      ],
      "source": [
        "import matplotlib.pyplot as plt\n",
        "plt.hist(fabrica1)\n",
        "plt.title(\"Producción diaria de la Fabrica 1\")"
      ]
    },
    {
      "cell_type": "code",
      "execution_count": 5,
      "metadata": {
        "id": "k5b1VnsFJgrP",
        "outputId": "36071199-97d9-4420-9809-68fd6b1007d0",
        "colab": {
          "base_uri": "https://localhost:8080/",
          "height": 470
        }
      },
      "outputs": [
        {
          "output_type": "execute_result",
          "data": {
            "text/plain": [
              "Text(0.5, 1.0, 'Producción diaria de la Fabrica 2')"
            ]
          },
          "metadata": {},
          "execution_count": 5
        },
        {
          "output_type": "display_data",
          "data": {
            "text/plain": [
              "<Figure size 640x480 with 1 Axes>"
            ],
            "image/png": "[encoded data removed]"
          },
          "metadata": {}
        }
      ],
      "source": [
        "plt.hist(fabrica2)\n",
        "plt.title(\"Producción diaria de la Fabrica 2\")"
      ]
    },
    {
      "cell_type": "code",
      "execution_count": null,
      "metadata": {
        "id": "alFlkHr7JgrP",
        "outputId": "aac8e90a-124f-4721-9fe6-2a8a6f7528c6"
      },
      "outputs": [
        {
          "name": "stdout",
          "output_type": "stream",
          "text": [
            "Valores de la fabrica 1\n",
            "La media es = 74.0979\n",
            "la mediana es = 75.685\n",
            "la moda es = 83.37\n"
          ]
        }
      ],
      "source": [
        "media1 = mean(fabrica1)\n",
        "mediana1 = median(fabrica1)\n",
        "moda1= mode(fabrica1)\n",
        "print(\"Valores de la fabrica 1\")\n",
        "print(\"La media es =\", media1)\n",
        "print(\"la mediana es =\", mediana1)\n",
        "print(\"la moda es =\", moda1)"
      ]
    },
    {
      "cell_type": "code",
      "execution_count": null,
      "metadata": {
        "id": "Qn_duAKwJgrP",
        "outputId": "0e98ac2c-4510-4b1c-9fad-fb650b91429d"
      },
      "outputs": [
        {
          "name": "stdout",
          "output_type": "stream",
          "text": [
            "Valores de la fabrica 2\n",
            "La media es = 73.5256\n",
            "la mediana es = 71.625\n",
            "la moda es = 77.25\n"
          ]
        }
      ],
      "source": [
        "media2 = mean(fabrica2)\n",
        "mediana2 = median(fabrica2)\n",
        "moda2= mode(fabrica2)\n",
        "print(\"Valores de la fabrica 2\")\n",
        "print(\"La media es =\", media2)\n",
        "print(\"la mediana es =\", mediana2)\n",
        "print(\"la moda es =\", moda2)"
      ]
    },
    {
      "cell_type": "code",
      "execution_count": 6,
      "metadata": {
        "id": "u0UEp7WAJgrQ",
        "outputId": "af917c3c-93eb-4184-81da-9cad2ac658f0",
        "colab": {
          "base_uri": "https://localhost:8080/",
          "height": 445
        }
      },
      "outputs": [
        {
          "output_type": "display_data",
          "data": {
            "text/plain": [
              "<Figure size 1000x500 with 2 Axes>"
            ],
            "image/png": "[encoded data removed]"
          },
          "metadata": {}
        }
      ],
      "source": [
        "# generar 2 subplot de 1 renglon por 2 columnas para desplegar los 2 histogramas,\n",
        "# una al lado de la otra\n",
        "fig, (ax1, ax2) = plt.subplots(nrows =1, ncols=2, figsize=(10, 5))\n",
        "ax1.hist(fabrica1)\n",
        "ax2.hist(fabrica2)\n",
        "plt.show()"
      ]
    },
    {
      "cell_type": "code",
      "execution_count": null,
      "metadata": {
        "id": "KiguFK03JgrR",
        "outputId": "e3cdaa28-7b02-440b-bf16-c2e7406c8cc1"
      },
      "outputs": [
        {
          "data": {
            "image/png": "[encoded data removed]",
            "text/plain": [
              "<Figure size 640x480 with 1 Axes>"
            ]
          },
          "metadata": {},
          "output_type": "display_data"
        }
      ],
      "source": [
        "plt.hist(fabrica1, bins=10, alpha=0.2, color='b', edgecolor = \"black\")\n",
        "plt.axvline(media1, color='b', linestyle='dashed', linewidth=2, label='Media')\n",
        "plt.axvline(mediana1, color='r', linestyle='dashed', linewidth=2, label='Mediana')\n",
        "plt.axvline(moda1, color='y', linestyle='dashed', linewidth=2, label='Moda')\n",
        "plt.xlabel('Valor')\n",
        "plt.ylabel('Frecuencia')\n",
        "plt.title(\"Producción diaria de la fabrica 1\")\n",
        "plt.legend()\n",
        "plt.show()"
      ]
    },
    {
      "cell_type": "code",
      "execution_count": null,
      "metadata": {
        "id": "rsMZY8EOJgrR",
        "outputId": "c48f132a-a8e5-4898-8cad-8b9c2a6b181d"
      },
      "outputs": [
        {
          "data": {
            "image/png": "[encoded data removed]",
            "text/plain": [
              "<Figure size 640x480 with 1 Axes>"
            ]
          },
          "metadata": {},
          "output_type": "display_data"
        }
      ],
      "source": [
        "plt.hist(fabrica2, bins=10, alpha=0.2, color='b', edgecolor = \"black\")\n",
        "plt.axvline(media2, color='b', linestyle='dashed', linewidth=2, label='Media')\n",
        "plt.axvline(mediana2, color='r', linestyle='dashed', linewidth=2, label='Mediana')\n",
        "plt.axvline(moda2, color='y', linestyle='dashed', linewidth=2, label='Moda')\n",
        "plt.xlabel('Valor')\n",
        "plt.ylabel('Frecuencia')\n",
        "plt.title(\"Producción diaria de la fabrica 2\")\n",
        "plt.legend()\n",
        "plt.show()"
      ]
    },
    {
      "cell_type": "code",
      "execution_count": null,
      "metadata": {
        "id": "P3XIhdOMJgrd"
      },
      "outputs": [],
      "source": []
    },
    {
      "cell_type": "code",
      "execution_count": null,
      "metadata": {
        "id": "RvJk1wxeJgrd"
      },
      "outputs": [],
      "source": []
    }
  ],
  "metadata": {
    "colab": {
      "provenance": [],
      "include_colab_link": true
    },
    "kernelspec": {
      "display_name": "Python [conda env:base] *",
      "language": "python",
      "name": "conda-base-py"
    },
    "language_info": {
      "codemirror_mode": {
        "name": "ipython",
        "version": 3
      },
      "file_extension": ".py",
      "mimetype": "text/x-python",
      "name": "python",
      "nbconvert_exporter": "python",
      "pygments_lexer": "ipython3",
      "version": "3.11.5"
    }
  },
  "nbformat": 4,
  "nbformat_minor": 0
}